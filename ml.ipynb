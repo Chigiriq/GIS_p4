{
 "cells": [
  {
   "cell_type": "code",
   "execution_count": 63,
   "metadata": {},
   "outputs": [],
   "source": [
    "import folium\n",
    "import raster_tools as rt\n",
    "from raster_tools import open_vectors, Vector\n",
    "import geopandas as gpd\n",
    "import pandas as pd\n",
    "import numpy as np"
   ]
  },
  {
   "cell_type": "code",
   "execution_count": 82,
   "metadata": {},
   "outputs": [],
   "source": [
    "#evevation # Load lakes\n",
    "lakes2 = gpd.read_file('data/Quantarctica3/Quantarctica3/Glaciology/Subglacial Lakes/SubglacialLakes_WrightSiegert.shp')\n",
    "# regex replace spaces in LENGTH_M column\n",
    "lakes2['LENGTH_M'] = lakes2['LENGTH_M'].str.replace('28100 + 4000', '28100')\n",
    "lakes2['LENGTH_M'] = lakes2['LENGTH_M'].str.replace('<', '')\n",
    "lakes2['LENGTH_M'] = lakes2['LENGTH_M'].str.replace(' ', '')\n",
    "lakes2['LENGTH_M'] = pd.to_numeric(lakes2['LENGTH_M'], errors='coerce')\n",
    "# make a new col claled SAT_DETECT with a value of 1 if the lake is detected by satellite (CLASS G) and 0 otherwise\n",
    "lakes2['SAT_DETECT'] = np.where(lakes2['CLASS'] == 'G', 1, 0)\n",
    "\n",
    "# load ice boundaries\n",
    "ice_bounds = gpd.read_file('data/Quantarctica3/Quantarctica3/Glaciology/MEaSUREs Antarctic Boundaries/IceBoundaries_Antarctica_v2.shp')\n",
    "\n",
    "# load the bed elevation raster\n",
    "bed_elevation = rt.Raster('data/Quantarctica3/Quantarctica3/TerrainModels/BEDMAP2/bedmap2_bed.tif')\n",
    "\n",
    "# load the ice thickness raster\n",
    "ice_thickness = rt.Raster('data/Quantarctica3/Quantarctica3/TerrainModels/BEDMAP2/bedmap2_thickness.tif')\n",
    "\n",
    "# load DEM\n",
    "dem = rt.Raster('data/dem/rema_mosaic_500m_v2.0_filled_cop30_dem.tif')\n",
    "\n",
    "dem_2 = bed_elevation + ice_thickness\n",
    "\n",
    "# get slope from dem\n",
    "slope = rt.surface.slope(dem_2)\n",
    "\n",
    "# log scale the slope for plotting\n",
    "# slope_log = np.log(slope + 1)\n",
    "# slope_log.plot(cmap='gist_earth')"
   ]
  }
 ],
 "metadata": {
  "kernelspec": {
   "display_name": "rstools39",
   "language": "python",
   "name": "python3"
  },
  "language_info": {
   "codemirror_mode": {
    "name": "ipython",
    "version": 3
   },
   "file_extension": ".py",
   "mimetype": "text/x-python",
   "name": "python",
   "nbconvert_exporter": "python",
   "pygments_lexer": "ipython3",
   "version": "3.9.20"
  }
 },
 "nbformat": 4,
 "nbformat_minor": 2
}
